{
 "cells": [
  {
   "cell_type": "code",
   "execution_count": 2,
   "id": "d9df147f",
   "metadata": {},
   "outputs": [
    {
     "name": "stdout",
     "output_type": "stream",
     "text": [
      "Expect Value E(K1) = 111.03\n",
      "Expect Value E(K2) = 77.32\n"
     ]
    }
   ],
   "source": [
    "a = 13 \n",
    "b = 12\n",
    "\n",
    "# find probability of p,q,r \n",
    "P = (102/113 - 92/123) * (123/20)\n",
    "Q = (112/123 - 118/134) * (134/6)\n",
    "R = (92/123 - 96/134) * (134/6)\n",
    "\n",
    "# find Expect Value \n",
    "K1 = ((100 + b) * P) + ((80 + b) * (1 - P)) \n",
    "K2 = ((112 + b) * Q) + ((106 + b) * (1 - Q))  - ((90 + b) * R) + ((80 + b) * (1 - R))\n",
    "print(\"Expect Value E(K1) =\",'{:0.2f}'.format(float(K1)))\n",
    "print(\"Expect Value E(K2) =\",'{:0.2f}'.format(float(K2)))"
   ]
  },
  {
   "cell_type": "code",
   "execution_count": 3,
   "id": "f4550e35",
   "metadata": {
    "scrolled": true
   },
   "outputs": [
    {
     "data": {
      "text/latex": [
       "$P = 0.951327433628316$"
      ],
      "text/plain": [
       "L\"$P = 0.951327433628316$\""
      ]
     },
     "metadata": {},
     "output_type": "display_data"
    },
    {
     "data": {
      "text/latex": [
       "$Q = 0.669376693766936$"
      ],
      "text/plain": [
       "L\"$Q = 0.669376693766936$\""
      ]
     },
     "metadata": {},
     "output_type": "display_data"
    },
    {
     "data": {
      "text/latex": [
       "$R = 0.704607046070462$"
      ],
      "text/plain": [
       "L\"$R = 0.704607046070462$\""
      ]
     },
     "metadata": {},
     "output_type": "display_data"
    }
   ],
   "source": [
    "using SymPy,Latexify\n",
    "\n",
    "P, Q, R = symbols(\"P Q R\")\n",
    "P = solve(112/123 * P + 92/123 * (1-P) - 102/113,P)[1]\n",
    "Q = solve(124/134 * Q + 118/134 * (1-Q) - 112/123,Q)[1]\n",
    "R = solve(102/134 * R + 96/134 * (1-R) - 92/123,R)[1]\n",
    "\n",
    "LS=string(\"P=\")*string(P)\n",
    "latexify(LS)|>display\n",
    "\n",
    "LS=string(\"Q=\")*string(Q)\n",
    "latexify(LS)|>display\n",
    "\n",
    "LS=string(\"R=\")*string(R)\n",
    "latexify(LS)|>display"
   ]
  },
  {
   "cell_type": "code",
   "execution_count": null,
   "id": "3d58ef67",
   "metadata": {},
   "outputs": [],
   "source": []
  }
 ],
 "metadata": {
  "kernelspec": {
   "display_name": "Julia 1.10.4",
   "language": "julia",
   "name": "julia-1.10"
  },
  "language_info": {
   "file_extension": ".jl",
   "mimetype": "application/julia",
   "name": "julia",
   "version": "1.10.4"
  }
 },
 "nbformat": 4,
 "nbformat_minor": 5
}
