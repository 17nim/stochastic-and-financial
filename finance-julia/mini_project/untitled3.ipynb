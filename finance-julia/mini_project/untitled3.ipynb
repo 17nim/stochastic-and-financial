{
 "cells": [
  {
   "cell_type": "code",
   "execution_count": 3,
   "metadata": {},
   "outputs": [
    {
     "name": "stdout",
     "output_type": "stream",
     "text": [
      "0.8227642276422762"
     ]
    }
   ],
   "source": [
    "print((92/123 - 92/134) * 134/10)"
   ]
  },
  {
   "cell_type": "code",
   "execution_count": 2,
   "metadata": {},
   "outputs": [
    {
     "name": "stdout",
     "output_type": "stream",
     "text": [
      "0.9513274336283186\n",
      "0.669376693766937\n",
      "0.8227642276422762\n"
     ]
    }
   ],
   "source": [
    "P = (102/113 - 92/123) * (123/20)\n",
    "Q = (112/123 - 118/134) * (134/6)\n",
    "R = (92/123 - 92/134) * (134/10)\n",
    "println(P)\n",
    "println(Q)\n",
    "println(R)"
   ]
  }
 ],
 "metadata": {
  "kernelspec": {
   "display_name": "Julia 1.10.4",
   "language": "julia",
   "name": "julia-1.10"
  },
  "language_info": {
   "file_extension": ".jl",
   "mimetype": "application/julia",
   "name": "julia",
   "version": "1.10.4"
  }
 },
 "nbformat": 4,
 "nbformat_minor": 2
}
