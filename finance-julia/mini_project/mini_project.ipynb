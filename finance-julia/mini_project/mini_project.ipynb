{
 "cells": [
  {
   "cell_type": "markdown",
   "metadata": {},
   "source": [
    "1. The branching probabilities"
   ]
  },
  {
   "cell_type": "code",
   "execution_count": 2,
   "metadata": {},
   "outputs": [
    {
     "data": {
      "text/latex": [
       "$p = \\frac{215}{226} = 0.95133$"
      ],
      "text/plain": [
       "L\"$p = \\frac{215}{226} = 0.95133$\""
      ]
     },
     "metadata": {},
     "output_type": "display_data"
    },
    {
     "data": {
      "text/latex": [
       "$q = \\frac{247}{369} = 0.66938$"
      ],
      "text/plain": [
       "L\"$q = \\frac{247}{369} = 0.66938$\""
      ]
     },
     "metadata": {},
     "output_type": "display_data"
    },
    {
     "data": {
      "text/latex": [
       "$r = \\frac{506}{615} = 0.82276$"
      ],
      "text/plain": [
       "L\"$r = \\frac{506}{615} = 0.82276$\""
      ]
     },
     "metadata": {},
     "output_type": "display_data"
    }
   ],
   "source": [
    "using SymPy, Latexify\n",
    "\n",
    "# Define variables from definition 1\n",
    "a = 13; b = 12\n",
    "\n",
    "# Asset prices at time 1, 2, and 3\n",
    "A_0 = 100 + a\n",
    "A_1 = 110 + a\n",
    "A_2 = 121 + a\n",
    "\n",
    "# Solve for p, q, and r\n",
    "P, Q, R = symbols(\"P Q R\")\n",
    "P = solve((100 + b) // A_1 * P + ( 80 + b) // A_1 * (1 - P) - ( 90 + b) // A_0, P)[1]\n",
    "Q = solve((112 + b) // A_2 * Q + (106 + b) // A_2 * (1 - Q) - (100 + b) // A_1, Q)[1]\n",
    "R = solve(( 90 + b) // A_2 * R + ( 80 + b) // A_2 * (1 - R) - ( 80 + b) // A_1, R)[1]\n",
    "\n",
    "# Display results using Latexify\n",
    "LS = \"p=\" * string(P) * \"=\" * string(round(float(P), digits=5))\n",
    "latexify(LS) |> display\n",
    "\n",
    "LS = \"q=\" * string(Q) * \"=\" * string(round(float(Q), digits=5))\n",
    "latexify(LS) |> display\n",
    "\n",
    "LS = \"r=\" * string(R) * \"=\" * string(round(float(R), digits=5))\n",
    "latexify(LS) |> display"
   ]
  },
  {
   "cell_type": "markdown",
   "metadata": {},
   "source": [
    "2. The risk-neutral probability for each scenario"
   ]
  },
  {
   "cell_type": "code",
   "execution_count": 4,
   "metadata": {},
   "outputs": [
    {
     "data": {
      "text/latex": [
       "$P\\left( {\\omega}1 \\right) = \\frac{53105}{83394} = 0.6368$"
      ],
      "text/plain": [
       "L\"$P\\left( {\\omega}1 \\right) = \\frac{53105}{83394} = 0.6368$\""
      ]
     },
     "metadata": {},
     "output_type": "display_data"
    },
    {
     "data": {
      "text/latex": [
       "$P\\left( {\\omega}2 \\right) = \\frac{13115}{41697} = 0.31453$"
      ],
      "text/plain": [
       "L\"$P\\left( {\\omega}2 \\right) = \\frac{13115}{41697} = 0.31453$\""
      ]
     },
     "metadata": {},
     "output_type": "display_data"
    },
    {
     "data": {
      "text/latex": [
       "$P\\left( {\\omega}3 \\right) = \\frac{2783}{69495} = 0.04005$"
      ],
      "text/plain": [
       "L\"$P\\left( {\\omega}3 \\right) = \\frac{2783}{69495} = 0.04005$\""
      ]
     },
     "metadata": {},
     "output_type": "display_data"
    },
    {
     "data": {
      "text/latex": [
       "$P\\left( {\\omega}4 \\right) = \\frac{1199}{138990} = 0.00863$"
      ],
      "text/plain": [
       "L\"$P\\left( {\\omega}4 \\right) = \\frac{1199}{138990} = 0.00863$\""
      ]
     },
     "metadata": {},
     "output_type": "display_data"
    }
   ],
   "source": [
    "#The risk-neutral probability for each scenario\n",
    "P_1 = P * Q\n",
    "P_2 = P * (1 - Q)\n",
    "P_3 = (1 - P) * R\n",
    "P_4 = (1 - P) * (1 - R)\n",
    "\n",
    "# Display results using Latexify\n",
    "LS = \"P(ω1)=\" * string(P_1) * \"=\" * string(round(float(P_1), digits = 5))\n",
    "latexify(LS) |> display\n",
    "\n",
    "LS = \"P(ω2)=\" * string(P_2) * \"=\" * string(round(float(P_2), digits = 5))\n",
    "latexify(LS) |> display\n",
    "\n",
    "LS = \"P(ω3)=\" * string(P_3) * \"=\" * string(round(float(P_3), digits = 5))\n",
    "latexify(LS) |> display\n",
    "\n",
    "LS = \"P(ω4)=\" * string(P_4) * \"=\" * string(round(float(P_4), digits = 5))\n",
    "latexify(LS) |> display"
   ]
  },
  {
   "cell_type": "markdown",
   "metadata": {},
   "source": [
    "3. The expectation of S(n)"
   ]
  },
  {
   "cell_type": "code",
   "execution_count": 6,
   "metadata": {},
   "outputs": [
    {
     "data": {
      "text/latex": [
       "$E\\left( S\\left( 1 \\right) \\right) = \\frac{162878}{1469} = 110.87679$"
      ],
      "text/plain": [
       "L\"$E\\left( S\\left( 1 \\right) \\right) = \\frac{162878}{1469} = 110.87679$\""
      ]
     },
     "metadata": {},
     "output_type": "display_data"
    },
    {
     "data": {
      "text/latex": [
       "$E\\left( S\\left( 2 \\right) \\right) = \\frac{21825652}{180687} = 120.7926$"
      ],
      "text/plain": [
       "L\"$E\\left( S\\left( 2 \\right) \\right) = \\frac{21825652}{180687} = 120.7926$\""
      ]
     },
     "metadata": {},
     "output_type": "display_data"
    }
   ],
   "source": [
    "S_0 = 90 + b    # Stock value at time 0\n",
    "\n",
    "# Espected value at time 1 amd 2\n",
    "E_S_1 = S_0 * (1 + E_K_1)\n",
    "E_S_2 = E_S_1 * (1 + E_K_2)\n",
    "\n",
    "# Display results using Latexify\n",
    "LS = \"E(S(1))=\" * string(E_S_1) * \"=\" * string(round(float(E_S_1), digits = 5))\n",
    "latexify(LS) |> display\n",
    "\n",
    "LS = \"E(S(2))=\" * string(E_S_2) * \"=\" * string(round(float(E_S_2), digits = 5))\n",
    "latexify(LS) |> display"
   ]
  },
  {
   "cell_type": "markdown",
   "metadata": {},
   "source": [
    "4. The expectation of K(n)"
   ]
  },
  {
   "cell_type": "code",
   "execution_count": 7,
   "metadata": {},
   "outputs": [
    {
     "data": {
      "text/latex": [
       "$E\\left( K\\left( 1 \\right) \\right) = \\frac{6520}{74919} = 0.08703$"
      ],
      "text/plain": [
       "L\"$E\\left( K\\left( 1 \\right) \\right) = \\frac{6520}{74919} = 0.08703$\""
      ]
     },
     "metadata": {},
     "output_type": "display_data"
    },
    {
     "data": {
      "text/latex": [
       "$E\\left( K\\left( 2 \\right) \\right) = \\frac{11}{123} = 0.08943$"
      ],
      "text/plain": [
       "L\"$E\\left( K\\left( 2 \\right) \\right) = \\frac{11}{123} = 0.08943$\""
      ]
     },
     "metadata": {},
     "output_type": "display_data"
    }
   ],
   "source": [
    "# Expected return at time 1 and 2\n",
    "E_K_1 = P * ((100 + b) // (90 + b) - 1) + (1 - P) * ((80 - b) // (90 - b) - 1)\n",
    "E_K_2 = P_1 * ((112 + b) // (100 + b) - 1) + P_2 * ((106 + b) // (100 + b) - 1) + P_3 * ((90 + b) // (80 + b) - 1) + P_4 * ((80 + b) // (80 + b) - 1)\n",
    "\n",
    "# Display results using Latexify\n",
    "LS = \"E(K(1))=\" * string(E_K_1) * \"=\" * string(round(float(E_K_1), digits = 5))\n",
    "latexify(LS) |> display\n",
    "\n",
    "LS = \"E(K(2))=\" * string(E_K_2) * \"=\" * string(round(float(E_K_2), digits = 5))\n",
    "latexify(LS) |> display"
   ]
  }
 ],
 "metadata": {
  "kernelspec": {
   "display_name": "Julia 1.10.4",
   "language": "julia",
   "name": "julia-1.10"
  },
  "language_info": {
   "file_extension": ".jl",
   "mimetype": "application/julia",
   "name": "julia",
   "version": "1.10.4"
  }
 },
 "nbformat": 4,
 "nbformat_minor": 2
}
