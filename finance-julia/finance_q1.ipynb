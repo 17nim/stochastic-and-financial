{
 "cells": [
  {
   "cell_type": "code",
   "execution_count": 53,
   "metadata": {},
   "outputs": [
    {
     "data": {
      "text/plain": [
       "0.1"
      ]
     },
     "execution_count": 53,
     "metadata": {},
     "output_type": "execute_result"
    }
   ],
   "source": [
    "A = [100 110]\n",
    "K_a = (A[2] - A[1]) / A[1]"
   ]
  },
  {
   "cell_type": "code",
   "execution_count": 54,
   "metadata": {},
   "outputs": [
    {
     "data": {
      "text/plain": [
       "1×2 Matrix{Float64}:\n",
       " 0.1  -0.1"
      ]
     },
     "execution_count": 54,
     "metadata": {},
     "output_type": "execute_result"
    }
   ],
   "source": [
    "S_0 = 50\n",
    "S_1 = [55 45]\n",
    "K_s = (S_1 .- S_0) ./ S_0"
   ]
  },
  {
   "cell_type": "code",
   "execution_count": 55,
   "metadata": {},
   "outputs": [
    {
     "name": "stdout",
     "output_type": "stream",
     "text": [
      "V(0) = 1600\n",
      "V(1) = [1800 1700]\n",
      "K_v = [0.125 0.0625]\n"
     ]
    }
   ],
   "source": [
    "A = [90 100]\n",
    "S_0 = 25\n",
    "S_1 = [30 20]\n",
    "x = 10\n",
    "y = 15\n",
    "\n",
    "V_0 = x * S_0 + y * A[1]\n",
    "V_1 = x .* S_1 .+ y .* A[2]\n",
    "K_V = (V_1 .- V_0) ./ V_0\n",
    "\n",
    "println(\"V(0) = $V_0\")\n",
    "println(\"V(1) = $V_1\")\n",
    "println(\"K_V = $K_V\")\n"
   ]
  },
  {
   "cell_type": "markdown",
   "metadata": {},
   "source": [
    "**No-Arbitrage Principle**"
   ]
  },
  {
   "cell_type": "code",
   "execution_count": 56,
   "metadata": {},
   "outputs": [
    {
     "name": "stdout",
     "output_type": "stream",
     "text": [
      "We are currently 10400.0 USD in debt.\n",
      "10000 USD is converted into 6250.0 GBP.\n",
      "One year of investment = 6625.0\n",
      "convert back into 10467.5 USD.\n",
      "Profit after interest = 67.5 USD.\n"
     ]
    }
   ],
   "source": [
    "usd_loan = 10_000 #USD\n",
    "usd_loan_interest = 4 / 100\n",
    "usd_1_year_debt = usd_loan + (usd_loan * usd_loan_interest)\n",
    "println(\"We are currently $usd_1_year_debt USD in debt.\")\n",
    "\n",
    "dealer_A = 1.58 #USD to GBP – offer to buy (we sell GBP to get USD)\n",
    "dealer_B = 1.60 #USD to GBP – offer to sell (we buy GBP using USD)\n",
    "\n",
    "gbp_invest_rate = 6 / 100\n",
    "\n",
    "gbp_loan = usd_loan / dealer_B\n",
    "println(\"$usd_loan USD is converted into $gbp_loan GBP.\")\n",
    "\n",
    "gbp_1_year_invest = gbp_loan + (gbp_loan * gbp_invest_rate)\n",
    "println(\"One year of investment = $gbp_1_year_invest\")\n",
    "\n",
    "usd_buy_back = gbp_1_year_invest * dealer_A\n",
    "println(\"convert back into $usd_buy_back USD.\")\n",
    "\n",
    "arbitrary_profit = usd_buy_back - usd_1_year_debt\n",
    "println(\"Profit after interest = $arbitrary_profit USD.\")\n"
   ]
  },
  {
   "cell_type": "markdown",
   "metadata": {},
   "source": [
    "**Risk and Return**"
   ]
  },
  {
   "cell_type": "code",
   "execution_count": 1,
   "metadata": {},
   "outputs": [
    {
     "name": "stdout",
     "output_type": "stream",
     "text": [
      "x = 62.5, y = 50.0\n",
      "V_1 = [11750.0 9250.0]\n",
      "K_V = [0.175 -0.075]\n",
      "E(K_V) = 0.12499999999999999, σ_V = 0.09999999999999999\n"
     ]
    }
   ],
   "source": [
    "A = [100 110]\n",
    "S_0 = 80\n",
    "S_1 = [100 60]; P = [0.8 0.2]\n",
    "V_0 = 10_000\n",
    "\n",
    "x = 0.5 * V_0 / 80\n",
    "y = 0.5 * V_0 / 100\n",
    "println(\"x = $x, y = $y\")\n",
    "\n",
    "V_1 = x .* S_1 .+ y .* A[2]\n",
    "println(\"V_1 = $V_1\")\n",
    "K_V = (V_1 .- V_0) ./ V_0\n",
    "println(\"K_V = $K_V\")\n",
    "\n",
    "expected_return = sum(K_V .* P)\n",
    "risk = sqrt(sum((K_V .- expected_return).^2 .* P))\n",
    "println(\"E(K_V) = $expected_return, σ_V = $risk\")"
   ]
  }
 ],
 "metadata": {
  "kernelspec": {
   "display_name": "Julia 1.10.4",
   "language": "julia",
   "name": "julia-1.10"
  },
  "language_info": {
   "file_extension": ".jl",
   "mimetype": "application/julia",
   "name": "julia",
   "version": "1.10.4"
  }
 },
 "nbformat": 4,
 "nbformat_minor": 2
}
