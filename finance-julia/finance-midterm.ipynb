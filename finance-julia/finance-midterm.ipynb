{
 "cells": [
  {
   "cell_type": "markdown",
   "metadata": {},
   "source": [
    "**Call & Put Options**"
   ]
  },
  {
   "cell_type": "code",
   "execution_count": 13,
   "metadata": {},
   "outputs": [
    {
     "name": "stdout",
     "output_type": "stream",
     "text": [
      "Call option:\n",
      "x = 0.4802499999999998\n",
      "y = -0.3536386363636362\n",
      "C_0 = 12.66113636363636\n",
      "\n",
      "Put option:\n",
      "x = -0.5197500000000002\n",
      "y = 0.5717250000000001\n",
      "P_0 = 5.197499999999998\n"
     ]
    }
   ],
   "source": [
    "A = [100 110]\n",
    "S_0 = 100\n",
    "S_1 = [121 81]\n",
    "strike_price = 101.79\n",
    "\n",
    "println(\"Call option:\") #Call option\n",
    "\n",
    "C_1 = [S_1[1] - strike_price; 0] #column vector\n",
    "M_call = [S_1[1] A[2]; S_1[2] A[2]]\n",
    "\n",
    "x, y = M_call \\ C_1\n",
    "println(\"x = $x\\ny = $y\")\n",
    "\n",
    "C_0 = x * S_0 + y * A[1]\n",
    "println(\"C_0 = $C_0\")\n",
    "\n",
    "println(\"\\nPut option:\") #Put option\n",
    "\n",
    "P_1 = [0; strike_price - S_1[2]] #column vector\n",
    "M_put = [S_1[1] A[2]; S_1[2] A[2]]\n",
    "\n",
    "x, y = M_put \\ P_1\n",
    "println(\"x = $x\\ny = $y\")\n",
    "\n",
    "P_0 = x * S_0 + y * A[1]\n",
    "println(\"P_0 = $P_0\")"
   ]
  },
  {
   "cell_type": "markdown",
   "metadata": {},
   "source": [
    "**Managing Risk w/ Option**"
   ]
  },
  {
   "cell_type": "code",
   "execution_count": 9,
   "metadata": {},
   "outputs": [
    {
     "name": "stdout",
     "output_type": "stream",
     "text": [
      "x = 0.5\n",
      "y = -0.18181818181818182\n",
      "C_0 = 31.818181818181817\n",
      "One share of option: [135 75]\n",
      "Two shares of option: [110 110]\n"
     ]
    }
   ],
   "source": [
    "S_0 = 100\n",
    "S_1 = [160 40]\n",
    "A = [100 110]\n",
    "\n",
    "strike_price = 100\n",
    "\n",
    "C_1 = [S_1[1] - strike_price; 0] #column vector\n",
    "M = [S_1[1] A[2]; S_1[2] A[2]]\n",
    "\n",
    "x, y = M \\ C_1\n",
    "println(\"x = $x\\ny = $y\")\n",
    "\n",
    "C_0 = x * S_0 + y * A[1]\n",
    "println(\"C_0 = $C_0\")\n",
    "\n",
    "repay = 35\n",
    "#clear the loan that borrowed to pay for the option\n",
    "\n",
    "println(\"One share of option: \", S_1 - C_1' .+ repay)\n",
    "println(\"Two shares of option: \", S_1 - 2 * C_1' .+ 2 * repay)"
   ]
  },
  {
   "cell_type": "markdown",
   "metadata": {},
   "source": [
    "**Simple Interest**"
   ]
  },
  {
   "cell_type": "code",
   "execution_count": 27,
   "metadata": {},
   "outputs": [
    {
     "data": {
      "text/latex": [
       "$V\\left( 1 \\right) = P \\cdot \\left( \\frac{r}{12} + 1 \\right)$"
      ],
      "text/plain": [
       "L\"$V\\left( 1 \\right) = P \\cdot \\left( \\frac{r}{12} + 1 \\right)$\""
      ]
     },
     "metadata": {},
     "output_type": "display_data"
    },
    {
     "data": {
      "text/latex": [
       "$V\\left( 2 \\right) = P \\cdot \\left( \\frac{r}{12} + 1 \\right)^{2}$"
      ],
      "text/plain": [
       "L\"$V\\left( 2 \\right) = P \\cdot \\left( \\frac{r}{12} + 1 \\right)^{2}$\""
      ]
     },
     "metadata": {},
     "output_type": "display_data"
    },
    {
     "data": {
      "text/latex": [
       "$V\\left( 3 \\right) = P \\cdot \\left( \\frac{r}{12} + 1 \\right)^{3}$"
      ],
      "text/plain": [
       "L\"$V\\left( 3 \\right) = P \\cdot \\left( \\frac{r}{12} + 1 \\right)^{3}$\""
      ]
     },
     "metadata": {},
     "output_type": "display_data"
    }
   ],
   "source": [
    "using SymPy, Latexify\n",
    "\n",
    "P, r = symbols(\"P r\", real = true, positive = true)\n",
    "\n",
    "V_1 = (1 + r / 12) * P      #1st month\n",
    "latexify(\"V(1)=\" * string(V_1)) |> display\n",
    "\n",
    "V_2 = (1 + r / 12) * V_1    #2nd month\n",
    "latexify(\"V(2)=\" * string(V_2)) |> display\n",
    "\n",
    "V_3 = (1 + r / 12) * V_2    #3rd month\n",
    "latexify(\"V(3)=\" * string(V_3)) |> display"
   ]
  },
  {
   "cell_type": "markdown",
   "metadata": {},
   "source": [
    "**Streams of Payments**"
   ]
  },
  {
   "cell_type": "code",
   "execution_count": 78,
   "metadata": {},
   "outputs": [
    {
     "data": {
      "text/latex": [
       "$C = 3256.67844$"
      ],
      "text/plain": [
       "L\"$C = 3256.67844$\""
      ]
     },
     "execution_count": 78,
     "metadata": {},
     "output_type": "execute_result"
    }
   ],
   "source": [
    "using Latexify\n",
    "\n",
    "P = 12_000\n",
    "n = 6\n",
    "r = 16 / 100\n",
    "\n",
    "PA = (1 - (1+r)^(-n)) / r\n",
    "C = P / PA\n",
    "latexify(\"C=\" * string(round(C, digits = 5)))"
   ]
  },
  {
   "cell_type": "markdown",
   "metadata": {},
   "source": [
    "**Evaluating Certificate Price**"
   ]
  },
  {
   "cell_type": "code",
   "execution_count": 39,
   "metadata": {},
   "outputs": [
    {
     "name": "stdout",
     "output_type": "stream",
     "text": [
      "r_2 = 0.19089\n",
      "price = 109.54451\n"
     ]
    }
   ],
   "source": [
    "using Roots\n",
    "\n",
    "m = 2\n",
    "r_1 = 0.2\n",
    "f(r_2) = (1 + r_2 / m) ^ m - (1 + r_1)\n",
    "\n",
    "r_2 = find_zero(f, 1)\n",
    "println(\"r_2 = \", round(r_2, digits = 5))\n",
    "\n",
    "certprice = 100 * (1 + r_2 / m)\n",
    "println(\"price = \", round(certprice, digits = 5))"
   ]
  },
  {
   "cell_type": "markdown",
   "metadata": {},
   "source": [
    "**Compounding Methods Comparison**\n",
    "Note: This cannot be applied w/ simple interest."
   ]
  },
  {
   "cell_type": "code",
   "execution_count": 56,
   "metadata": {},
   "outputs": [
    {
     "name": "stdout",
     "output_type": "stream",
     "text": [
      "Semi-Annual: 1.1025, re_1 = 0.1025\n",
      "Annual: 1.1025, re_2 = 0.1025\n",
      "Monthly: 1.0938, re_3 = 0.0938\n"
     ]
    }
   ],
   "source": [
    "function gf(m::Int, r::Float64)\n",
    "    return (1 + (r / m)) ^ m\n",
    "end\n",
    "\n",
    "m_1 = 2     # Semi-Annual\n",
    "r_1 = 10 / 100\n",
    "gf_1 = gf(m_1, r_1)\n",
    "println(\"Semi-Annual: \", gf_1, \", re_1 = \", round(gf_1 - 1, digits = 4))\n",
    "\n",
    "m_2 = 1     # Annual\n",
    "r_2 = 10.25 / 100\n",
    "gf_2 = gf(m_2, r_2)\n",
    "println(\"Annual: \", gf_2, \", re_2 = \", round(gf_2 - 1, digits = 4))\n",
    "\n",
    "m_3 = 12    # Monthly\n",
    "r_3 = 9 / 100\n",
    "gf_3 = gf(m_3, r_3)\n",
    "println(\"Monthly: \", round(gf_3, digits = 4), \", re_3 = \", round(gf_3 - 1, digits = 4))"
   ]
  },
  {
   "cell_type": "markdown",
   "metadata": {},
   "source": [
    "**Coupon Bonds**"
   ]
  },
  {
   "cell_type": "code",
   "execution_count": 67,
   "metadata": {},
   "outputs": [
    {
     "data": {
      "text/latex": [
       "$V\\left( 0 \\right) = 90.26936$"
      ],
      "text/plain": [
       "L\"$V\\left( 0 \\right) = 90.26936$\""
      ]
     },
     "metadata": {},
     "output_type": "display_data"
    },
    {
     "data": {
      "text/latex": [
       "$V\\left( 1 \\right) = 91.77842$"
      ],
      "text/plain": [
       "L\"$V\\left( 1 \\right) = 91.77842$\""
      ]
     },
     "metadata": {},
     "output_type": "display_data"
    },
    {
     "data": {
      "text/latex": [
       "$V\\left( 1.5 \\right) = 97.45368$"
      ],
      "text/plain": [
       "L\"$V\\left( 1.5 \\right) = 97.45368$\""
      ]
     },
     "metadata": {},
     "output_type": "display_data"
    },
    {
     "data": {
      "text/latex": [
       "$V\\left( 4 \\right) = 97.56125$"
      ],
      "text/plain": [
       "L\"$V\\left( 4 \\right) = 97.56125$\""
      ]
     },
     "metadata": {},
     "output_type": "display_data"
    }
   ],
   "source": [
    "using Latexify\n",
    "\n",
    "F = 100\n",
    "C = 10\n",
    "r = 12 / 100\n",
    "\n",
    "V_0 = sum(exp.(r * [-1 -2 -3 -4 -5]) .* [C C C C C + F])\n",
    "latexify(\"V(0)=\" * string(round(V_0, digits = 5))) |> display\n",
    "\n",
    "V_1 = sum(exp.(r * [-1 -2 -3 -4]) .* [C C C C + F])\n",
    "latexify(\"V(1)=\" * string(round(V_1, digits = 5))) |> display\n",
    "\n",
    "V_1_5 = sum(exp.(r * (1.5 .+ [-2 -3 -4 -5])) .* [C C C C + F])\n",
    "latexify(\"V(1.5)=\" * string(round(V_1_5, digits = 5))) |> display\n",
    "\n",
    "V_4 = sum(exp.(r * [-1]) .* [C + F])\n",
    "latexify(\"V(4)=\" * string(round(V_4, digits = 5))) |> display"
   ]
  },
  {
   "cell_type": "markdown",
   "metadata": {},
   "source": [
    "**Common Stocks – Return**"
   ]
  },
  {
   "cell_type": "code",
   "execution_count": 75,
   "metadata": {},
   "outputs": [
    {
     "name": "stdout",
     "output_type": "stream",
     "text": [
      "Scenario #1:\n"
     ]
    },
    {
     "data": {
      "text/latex": [
       "$K\\left( 0, 2 \\right) = 0.0$"
      ],
      "text/plain": [
       "L\"$K\\left( 0, 2 \\right) = 0.0$\""
      ]
     },
     "metadata": {},
     "output_type": "display_data"
    },
    {
     "data": {
      "text/latex": [
       "$K\\left( 0, 1 \\right) = 10.0$"
      ],
      "text/plain": [
       "L\"$K\\left( 0, 1 \\right) = 10.0$\""
      ]
     },
     "metadata": {},
     "output_type": "display_data"
    },
    {
     "data": {
      "text/latex": [
       "$K\\left( 1, 2 \\right) = -9.09$"
      ],
      "text/plain": [
       "L\"$K\\left( 1, 2 \\right) = -9.09$\""
      ]
     },
     "metadata": {},
     "output_type": "display_data"
    },
    {
     "name": "stdout",
     "output_type": "stream",
     "text": [
      "Scenario #2:\n"
     ]
    },
    {
     "data": {
      "text/latex": [
       "$K\\left( 0, 2 \\right) = 0.0$"
      ],
      "text/plain": [
       "L\"$K\\left( 0, 2 \\right) = 0.0$\""
      ]
     },
     "metadata": {},
     "output_type": "display_data"
    },
    {
     "data": {
      "text/latex": [
       "$K\\left( 0, 1 \\right) = -10.0$"
      ],
      "text/plain": [
       "L\"$K\\left( 0, 1 \\right) = -10.0$\""
      ]
     },
     "metadata": {},
     "output_type": "display_data"
    },
    {
     "data": {
      "text/latex": [
       "$K\\left( 1, 2 \\right) = 11.11$"
      ],
      "text/plain": [
       "L\"$K\\left( 1, 2 \\right) = 11.11$\""
      ]
     },
     "metadata": {},
     "output_type": "display_data"
    },
    {
     "name": "stdout",
     "output_type": "stream",
     "text": [
      "Scenario #3:\n"
     ]
    },
    {
     "data": {
      "text/latex": [
       "$K\\left( 0, 2 \\right) = 21.0$"
      ],
      "text/plain": [
       "L\"$K\\left( 0, 2 \\right) = 21.0$\""
      ]
     },
     "metadata": {},
     "output_type": "display_data"
    },
    {
     "data": {
      "text/latex": [
       "$K\\left( 0, 1 \\right) = 10.0$"
      ],
      "text/plain": [
       "L\"$K\\left( 0, 1 \\right) = 10.0$\""
      ]
     },
     "metadata": {},
     "output_type": "display_data"
    },
    {
     "data": {
      "text/latex": [
       "$K\\left( 1, 2 \\right) = 10.0$"
      ],
      "text/plain": [
       "L\"$K\\left( 1, 2 \\right) = 10.0$\""
      ]
     },
     "metadata": {},
     "output_type": "display_data"
    }
   ],
   "source": [
    "using Latexify\n",
    "\n",
    "function K(n::Int, m::Int)\n",
    "    return (S[m + 1] -  S[n + 1]) / S[n + 1]\n",
    "end\n",
    "\n",
    "println(\"Scenario #1:\")\n",
    "S = [100 110 100]\n",
    "latexify(\"K(0,2)=\" * string(100 * K(0, 2))) |> display\n",
    "latexify(\"K(0,1)=\" * string(100 * K(0, 1))) |> display\n",
    "latexify(\"K(1,2)=\" * string(round(100 * K(1, 2), digits = 2))) |> display\n",
    "\n",
    "println(\"Scenario #2:\")\n",
    "S = [100 90 100]\n",
    "latexify(\"K(0,2)=\" * string(100 * K(0, 2))) |> display\n",
    "latexify(\"K(0,1)=\" * string(100 * K(0, 1))) |> display\n",
    "latexify(\"K(1,2)=\" * string(round(100 * K(1, 2), digits = 2))) |> display\n",
    "\n",
    "println(\"Scenario #3:\")\n",
    "S = [100 110 121]\n",
    "latexify(\"K(0,2)=\" * string(100 * K(0, 2))) |> display\n",
    "latexify(\"K(0,1)=\" * string(100 * K(0, 1))) |> display\n",
    "latexify(\"K(1,2)=\" * string(round(100 * K(1, 2), digits = 2))) |> display"
   ]
  },
  {
   "cell_type": "markdown",
   "metadata": {},
   "source": [
    "**Common Stocks – Expected Return**"
   ]
  },
  {
   "cell_type": "code",
   "execution_count": 76,
   "metadata": {},
   "outputs": [
    {
     "data": {
      "text/latex": [
       "$E\\left( K \\right) = 8.0$"
      ],
      "text/plain": [
       "L\"$E\\left( K \\right) = 8.0$\""
      ]
     },
     "execution_count": 76,
     "metadata": {},
     "output_type": "execute_result"
    }
   ],
   "source": [
    "using Latexify\n",
    "\n",
    "P = [1/4 1/2 1/4]\n",
    "R = [-6 4 30]\n",
    "E_K = P * R'\n",
    "latexify(\"E(K)=\" * string(E_K[1]))"
   ]
  }
 ],
 "metadata": {
  "kernelspec": {
   "display_name": "Julia 1.10.4",
   "language": "julia",
   "name": "julia-1.10"
  },
  "language_info": {
   "file_extension": ".jl",
   "mimetype": "application/julia",
   "name": "julia",
   "version": "1.10.4"
  }
 },
 "nbformat": 4,
 "nbformat_minor": 2
}
