{
 "cells": [
  {
   "cell_type": "code",
   "execution_count": 18,
   "metadata": {},
   "outputs": [
    {
     "name": "stdout",
     "output_type": "stream",
     "text": [
      "x = 0.4999999999999999\n",
      "y = -0.36363636363636354\n",
      "C_0 = 13.636363636363633\n"
     ]
    }
   ],
   "source": [
    "A = [100 110]\n",
    "S_0 = 100\n",
    "S_1 = [120 80]\n",
    "strike_price = 100\n",
    "\n",
    "C_1 = [S_1[1] - strike_price, 0] #column vector\n",
    "M = [S_1[1] A[2]; S_1[2] A[2]]\n",
    "\n",
    "x, y = M \\ C_1\n",
    "println(\"x = $x\\ny = $y\")\n",
    "\n",
    "C_0 = x * S_0 + y * A[1]\n",
    "println(\"C_0 = $C_0\")"
   ]
  },
  {
   "cell_type": "markdown",
   "metadata": {},
   "source": [
    "**Call Option**"
   ]
  },
  {
   "cell_type": "code",
   "execution_count": 23,
   "metadata": {},
   "outputs": [
    {
     "name": "stdout",
     "output_type": "stream",
     "text": [
      "x = 0.4802499999999998\n",
      "y = -0.3536386363636362\n",
      "C_0 = 12.66113636363636\n"
     ]
    }
   ],
   "source": [
    "A = [100 110]\n",
    "S_0 = 100\n",
    "S_1 = [121 81]\n",
    "strike_price = 101.79\n",
    "\n",
    "C_1 = [S_1[1] - strike_price, 0] #column vector\n",
    "#C_1 = [19.21, 0] #column vector\n",
    "M = [S_1[1] A[2]; S_1[2] A[2]]\n",
    "\n",
    "x, y = M \\ C_1\n",
    "println(\"x = $x\\ny = $y\")\n",
    "\n",
    "C_0 = x * S_0 + y * A[1]\n",
    "println(\"C_0 = $C_0\")"
   ]
  },
  {
   "cell_type": "markdown",
   "metadata": {},
   "source": [
    "**Put Option**"
   ]
  },
  {
   "cell_type": "code",
   "execution_count": 1,
   "metadata": {},
   "outputs": [
    {
     "name": "stdout",
     "output_type": "stream",
     "text": [
      "x = -0.5197500000000002\n",
      "y = 0.5717250000000001\n",
      "P_0 = 5.197499999999998\n"
     ]
    }
   ],
   "source": [
    "\n",
    "A = [100 110]\n",
    "S_0 = 100\n",
    "S_1 = [121 81]\n",
    "strike_price = 101.79\n",
    "\n",
    "P_1 = [0, strike_price - S_1[2]] #column vector\n",
    "#C_1 = [19.21, 0] #column vector\n",
    "M = [S_1[1] A[2]; S_1[2] A[2]]\n",
    "\n",
    "x, y = M \\ P_1\n",
    "println(\"x = $x\\ny = $y\")\n",
    "\n",
    "P_0 = x * S_0 + y * A[1]\n",
    "println(\"P_0 = $P_0\")"
   ]
  }
 ],
 "metadata": {
  "kernelspec": {
   "display_name": "Julia 1.10.4",
   "language": "julia",
   "name": "julia-1.10"
  },
  "language_info": {
   "file_extension": ".jl",
   "mimetype": "application/julia",
   "name": "julia",
   "version": "1.10.4"
  }
 },
 "nbformat": 4,
 "nbformat_minor": 4
}
