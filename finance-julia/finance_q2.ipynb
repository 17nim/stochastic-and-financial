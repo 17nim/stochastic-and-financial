{
 "cells": [
  {
   "cell_type": "markdown",
   "metadata": {},
   "source": [
    "**The average return over a past period**"
   ]
  },
  {
   "cell_type": "code",
   "execution_count": 45,
   "metadata": {},
   "outputs": [
    {
     "name": "stdout",
     "output_type": "stream",
     "text": [
      "average of 9 daily returns = 0.7665874609661267 %\n",
      "average of 4 daily returns = 6.181027572331757 %\n"
     ]
    },
    {
     "data": {
      "text/plain": [
       "6.181027572331757"
      ]
     },
     "execution_count": 45,
     "metadata": {},
     "output_type": "execute_result"
    }
   ],
   "source": [
    "using Statistics, Latexify\n",
    "S = [98 100 99 95 88 82 89 98 101 105]\n",
    "\n",
    "#average of 9 daily returns\n",
    "k = log.(S[2:end] ./ S[1:end-1])\n",
    "k_av = mean(k) * 100\n",
    "println(\"average of 9 daily returns = $k_av %\")\n",
    "\n",
    "#average of 4 daily returns\n",
    "k = log.(S[end-3:end] ./ S[end-4:end-1])\n",
    "k_av = mean(k) * 100\n",
    "println(\"average of 4 daily returns = $k_av %\")\n"
   ]
  },
  {
   "cell_type": "markdown",
   "metadata": {},
   "source": [
    "**Binomial Tree Model**"
   ]
  },
  {
   "cell_type": "markdown",
   "metadata": {},
   "source": [
    "Exercise 3.13"
   ]
  },
  {
   "cell_type": "code",
   "execution_count": 11,
   "metadata": {},
   "outputs": [
    {
     "name": "stdout",
     "output_type": "stream",
     "text": [
      "u = 0.05747126436781613\n",
      "d = -0.0762319989430571\n"
     ]
    }
   ],
   "source": [
    "S_1 = [87 76]\n",
    "S_2_top = 92\n",
    "u = (S_2_top / S_1[1]) - 1\n",
    "println(\"u = $u\")\n",
    "\n",
    "d = (S_1[2] / S_1[1]) * (1+u) - 1\n",
    "println(\"d = $d\")"
   ]
  },
  {
   "cell_type": "markdown",
   "metadata": {},
   "source": [
    "risk-neutral probability"
   ]
  },
  {
   "cell_type": "code",
   "execution_count": 39,
   "metadata": {},
   "outputs": [
    {
     "data": {
      "text/latex": [
       "$p_{star} = 0.66667$"
      ],
      "text/plain": [
       "L\"$p_{star} = 0.66667$\""
      ]
     },
     "metadata": {},
     "output_type": "display_data"
    },
    {
     "data": {
      "text/latex": [
       "$E_{star}\\left( S\\left( 2 \\right) \\right) = 121.0$"
      ],
      "text/plain": [
       "L\"$E_{star}\\left( S\\left( 2 \\right) \\right) = 121.0$\""
      ]
     },
     "metadata": {},
     "output_type": "display_data"
    }
   ],
   "source": [
    "using Roots, Latexify\n",
    "S_0 = 100; u = 0.2; d = -0.1; r = 0.1\n",
    "\n",
    "f(p_star) = p_star * (u-r) + (1-p_star) * (d-r)\n",
    "p_star = find_zero(f, 1)\n",
    "ls = \"p_star=\" * string(round(p_star, digits = 5))\n",
    "latexify(ls) |> display\n",
    "\n",
    "E_star = S_0 * (1+r) ^ 2\n",
    "ls = \"E_star(S(2))=\" * string(round(E_star, digits = 1))\n",
    "latexify(ls) |> display"
   ]
  },
  {
   "cell_type": "markdown",
   "metadata": {},
   "source": [
    "Exercise 3.19"
   ]
  },
  {
   "cell_type": "code",
   "execution_count": 43,
   "metadata": {},
   "outputs": [
    {
     "name": "stdout",
     "output_type": "stream",
     "text": [
      "E_star(S(3)|S(2)) = 132.0\n"
     ]
    }
   ],
   "source": [
    "using Latexify\n",
    "S_2 = 110; r = 0.2\n",
    "E_star = S_2 * (1+r)\n",
    "println(\"E_star(S(3)|S(2)) = $E_star\")"
   ]
  },
  {
   "cell_type": "markdown",
   "metadata": {},
   "source": [
    "**Continuous-time limit**"
   ]
  },
  {
   "cell_type": "code",
   "execution_count": 52,
   "metadata": {},
   "outputs": [
    {
     "data": {
      "text/plain": [
       "0.6931471805599453"
      ]
     },
     "execution_count": 52,
     "metadata": {},
     "output_type": "execute_result"
    }
   ],
   "source": [
    "log(2)  #natural log\n"
   ]
  },
  {
   "cell_type": "markdown",
   "metadata": {},
   "source": [
    "Exercise 3.22"
   ]
  },
  {
   "cell_type": "code",
   "execution_count": 60,
   "metadata": {},
   "outputs": [
    {
     "name": "stdout",
     "output_type": "stream",
     "text": [
      "m = 0.058513748656069675\n",
      "sd = 0.05170684893172923\n",
      "sd = 0.05170684893172923\n"
     ]
    }
   ],
   "source": [
    "u = 0.02; d = -0.01; tau = 1/12\n",
    "m = (log(1+u) + log(1+d)) / (2 * tau)\n",
    "println(\"m = $m\")\n",
    "sd = (log(1+u) - m * tau) / sqrt(tau)\n",
    "println(\"sd = $sd\")\n",
    "sd2 = (log(1+u) - log(1+d)) / (2 * sqrt(tau))\n",
    "println(\"sd = $sd2\")"
   ]
  }
 ],
 "metadata": {
  "kernelspec": {
   "display_name": "Julia 1.10.4",
   "language": "julia",
   "name": "julia-1.10"
  },
  "language_info": {
   "file_extension": ".jl",
   "mimetype": "application/julia",
   "name": "julia",
   "version": "1.10.4"
  }
 },
 "nbformat": 4,
 "nbformat_minor": 2
}
