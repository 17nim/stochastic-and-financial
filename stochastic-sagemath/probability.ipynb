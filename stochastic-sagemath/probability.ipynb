{
 "cells": [
  {
   "cell_type": "code",
   "execution_count": 1,
   "id": "41357f16-3e8d-49b9-b0d8-7f4333ead024",
   "metadata": {
    "vscode": {
     "languageId": "julia"
    }
   },
   "outputs": [
    {
     "name": "stdout",
     "output_type": "stream",
     "text": [
      "['a', 'b', 'c', 'a', 'b', 'c']\n"
     ]
    },
    {
     "data": {
      "text/plain": [
       "{'a', 'b', 'c'}"
      ]
     },
     "execution_count": 1,
     "metadata": {},
     "output_type": "execute_result"
    }
   ],
   "source": [
    "w = [\"a\", \"b\", \"c\", \"a\", \"b\", \"c\"]\n",
    "print(w)\n",
    "\n",
    "o = set(w)\n",
    "o"
   ]
  },
  {
   "cell_type": "code",
   "execution_count": 30,
   "id": "83953f67",
   "metadata": {
    "vscode": {
     "languageId": "julia"
    }
   },
   "outputs": [
    {
     "name": "stdout",
     "output_type": "stream",
     "text": [
      "['T', 'T', 'T', 'H', 'H', 'H', 'H', 'T', 'H', 'T']\n",
      "{'H', 'T'}\n"
     ]
    }
   ],
   "source": [
    "ω = []\n",
    "for j in range(10):\n",
    "\tif random() < 0.5:\n",
    "\t\tω.append(\"H\")\n",
    "\telse:\n",
    "\t\tω.append(\"T\")\n",
    "print(ω)    \n",
    "print(set(ω))"
   ]
  },
  {
   "cell_type": "code",
   "execution_count": 53,
   "id": "5ea3dc51",
   "metadata": {
    "vscode": {
     "languageId": "julia"
    }
   },
   "outputs": [
    {
     "name": "stdout",
     "output_type": "stream",
     "text": [
      "['HHH', 'HHT', 'HTH', 'HTT', 'THH', 'THT', 'TTH', 'TTT']\n"
     ]
    },
    {
     "data": {
      "text/plain": [
       "True"
      ]
     },
     "execution_count": 53,
     "metadata": {},
     "output_type": "execute_result"
    }
   ],
   "source": [
    "forget()\n",
    "sample_space = [\"H\", \"T\"]\n",
    "possible_events = []\n",
    "\n",
    "for i in sample_space:\n",
    "    for j in sample_space:\n",
    "        for k in sample_space:\n",
    "            e = i\n",
    "            e += j\n",
    "            e += k\n",
    "            possible_events.append(e)\n",
    "\n",
    "print(possible_events)\n",
    "\n",
    "A = set([\"HHH\", \"HTH\", \"THH\", \"TTH\"])\n",
    "A.issubset(set(possible_events))"
   ]
  },
  {
   "cell_type": "code",
   "execution_count": 68,
   "id": "15147ee4",
   "metadata": {
    "vscode": {
     "languageId": "julia"
    }
   },
   "outputs": [
    {
     "name": "stdout",
     "output_type": "stream",
     "text": [
      "True\n",
      "False\n",
      "{0, 1, 2, 3, 4, 6, 8}\n",
      "{0, 2, 4}\n",
      "set()\n",
      "{5, 6, 7, 8, 9}\n",
      "{8, 6}\n",
      "{8, 6}\n",
      "{8, 6}\n",
      "True\n",
      "10\n",
      "7\n"
     ]
    }
   ],
   "source": [
    "forget()\n",
    "sample_space = set([0, 1, 2, 3, 4, 5, 6, 7, 8, 9])\n",
    "A = set([0, 1, 2, 3, 4])\n",
    "B = set([0, 2, 4, 6, 8])\n",
    "C = set([1, 3, 5, 7, 9])\n",
    "\n",
    "print(A.issubset(sample_space))\n",
    "print(B.issubset(C))\n",
    "\n",
    "print(A.union(B))\n",
    "print(A.intersection(B))\n",
    "print(B.intersection(C))\n",
    "\n",
    "A_complement = sample_space.difference(A)\n",
    "print(A_complement)\n",
    "\n",
    "print(B.difference(A))\n",
    "print(B.intersection(A_complement))\n",
    "print(B - A)\n",
    "print(B.difference(A) == B.intersection(A_complement) == B - A)\n",
    "\n",
    "print(len(list(A) + list(B)))\n",
    "print(len(A.union(B)))\n",
    "\n"
   ]
  }
 ],
 "metadata": {
  "kernelspec": {
   "display_name": "SageMath 10.3",
   "language": "sage",
   "name": "SageMath-10.3"
  },
  "language_info": {
   "codemirror_mode": {
    "name": "ipython",
    "version": 3
   },
   "file_extension": ".py",
   "mimetype": "text/x-python",
   "name": "sage",
   "nbconvert_exporter": "python",
   "pygments_lexer": "ipython3",
   "version": "3.11.8"
  }
 },
 "nbformat": 4,
 "nbformat_minor": 5
}
