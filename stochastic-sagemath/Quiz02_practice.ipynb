{
 "cells": [
  {
   "cell_type": "code",
   "execution_count": 2,
   "metadata": {
    "vscode": {
     "languageId": "python"
    }
   },
   "outputs": [
    {
     "name": "stdout",
     "output_type": "stream",
     "text": [
      "phi( 3.0117 ) = 0.92423\n",
      "P(sum(T_i) > 2nm) is approximately  0.075766\n"
     ]
    }
   ],
   "source": [
    "sd = 2.1; m = 1; n = 40\n",
    "phi = RealDistribution(\"gaussian\", sd)\n",
    "x = (n * m) / (sd * sqrt(n))\n",
    "P2 = phi.cum_distribution_function(x)\n",
    "print(\"phi(\", x.n(digits = 5), \") =\", P2.n(digits = 5))\n",
    "print(\"P(sum(T_i) > 2nm) is approximately \", (1 - P2).n(digits = 5))"
   ]
  }
 ],
 "metadata": {
  "kernelspec": {
   "display_name": "SageMath 10.3",
   "language": "sage",
   "name": "SageMath-10.3"
  },
  "language_info": {
   "codemirror_mode": {
    "name": "ipython",
    "version": 3
   },
   "file_extension": ".py",
   "mimetype": "text/x-python",
   "name": "sage",
   "nbconvert_exporter": "python",
   "pygments_lexer": "ipython3",
   "version": "3.11.8"
  }
 },
 "nbformat": 4,
 "nbformat_minor": 2
}
